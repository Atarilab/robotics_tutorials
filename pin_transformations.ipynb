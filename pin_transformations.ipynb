{
 "cells": [
  {
   "cell_type": "markdown",
   "metadata": {},
   "source": [
    "# Direct and inverse geometry of 2d robots"
   ]
  },
  {
   "cell_type": "markdown",
   "metadata": {},
   "source": [
    "This notebook the main concept of kinematic tree, direct geometry and inverse geometry, but without the kinematic tree of Pinocchio. We only use the basic geometries of the our 3d viewer for displaying the simple robot that is used in this tutorial."
   ]
  },
  {
   "cell_type": "code",
   "execution_count": 1,
   "metadata": {},
   "outputs": [
    {
     "name": "stdout",
     "output_type": "stream",
     "text": [
      "NB: as for all the tutorials, a magic command %do_not_load is introduced to hide the solutions to some questions. Change it for %load if you want to see (and execute) the solution.\n"
     ]
    }
   ],
   "source": [
    "import magic_donotload"
   ]
  },
  {
   "cell_type": "markdown",
   "metadata": {},
   "source": [
    "## Set up\n",
    "We will need NumPy, SciPy, and MeshCat Viewer for vizualizing the robot.\n",
    "Scipy is a collection of scientific tools for Python. It contains, in particular, a set of optimizers that we are going to use for solving the inverse-geometry problem."
   ]
  },
  {
   "cell_type": "code",
   "execution_count": 2,
   "metadata": {},
   "outputs": [],
   "source": [
    "import time\n",
    "import numpy as np\n",
    "import pinocchio as pin\n",
    "from utils.meshcat_viewer_wrapper import MeshcatVisualizer,translation2d,planar"
   ]
  },
  {
   "cell_type": "markdown",
   "metadata": {},
   "source": [
    "<a id='section_display_objects'></a>\n",
    "## Displaying objects\n",
    "Let's first learn how to open a 3D viewer, in which we will build our simulator. We will use the viewer MeshCat which directly displays in a browser. Open it as follows:"
   ]
  },
  {
   "cell_type": "code",
   "execution_count": 3,
   "metadata": {},
   "outputs": [
    {
     "name": "stdout",
     "output_type": "stream",
     "text": [
      "You can open the visualizer by visiting the following URL:\n",
      "http://127.0.0.1:7000/static/\n"
     ]
    }
   ],
   "source": [
    "viz = MeshcatVisualizer()"
   ]
  },
  {
   "cell_type": "markdown",
   "metadata": {},
   "source": [
    "The following <viz> object is a client of the viewer, i.e. it will be use to pass display command to the viewer. The first commands are to create objects:"
   ]
  },
  {
   "cell_type": "code",
   "execution_count": 138,
   "metadata": {},
   "outputs": [],
   "source": [
    "#ballID = 'world/ball'; viz.addSphere(ballID,.2,[1,0,0,1])\n",
    "cylID1 = 'world/cyl1';   viz.addCylinder(cylID1,length=0.3,radius=.05,color=[0,0,1,1])\n",
    "cylID2 = 'world/cyl2';   viz.addCylinder(cylID2,length=0.2,radius=.06,color=[1,1,0,1])\n",
    "#boxID = 'world/box';   viz.addBox(boxID,[.5,.2,.4],[1,1,0,1])"
   ]
  },
  {
   "cell_type": "code",
   "execution_count": 139,
   "metadata": {},
   "outputs": [],
   "source": [
    "frame1 = pin.SE3.Random()\n",
    "frame2 = pin.SE3.Random()\n",
    "frame3 = pin.SE3.Random()\n",
    "frame4 = pin.SE3.Random()\n",
    "\n",
    "viz.visualize_frame(\"frame1\", frame1)\n",
    "viz.visualize_frame(\"frame2\", frame2)\n",
    "viz.visualize_frame(\"frame3\", frame3)\n",
    "viz.visualize_frame(\"frame4\", frame4)"
   ]
  },
  {
   "cell_type": "code",
   "execution_count": 140,
   "metadata": {},
   "outputs": [],
   "source": [
    "viz.applyConfiguration(cylID1,pin.SE3ToXYZQUAT(pin.SE3(frame1)))\n",
    "viz.applyConfiguration(cylID2,pin.SE3ToXYZQUAT(pin.SE3(frame1)))"
   ]
  },
  {
   "cell_type": "code",
   "execution_count": 141,
   "metadata": {},
   "outputs": [],
   "source": [
    "viz.applyConfiguration(cylID1,pin.SE3ToXYZQUAT(pin.SE3(frame2)))\n",
    "viz.applyConfiguration(cylID2,pin.SE3ToXYZQUAT(pin.SE3(frame2)))"
   ]
  },
  {
   "cell_type": "code",
   "execution_count": 142,
   "metadata": {},
   "outputs": [],
   "source": [
    "viz.applyConfiguration(cylID1,pin.SE3ToXYZQUAT(pin.SE3(frame3)))\n",
    "viz.applyConfiguration(cylID2,pin.SE3ToXYZQUAT(pin.SE3(frame3)))"
   ]
  },
  {
   "cell_type": "code",
   "execution_count": 143,
   "metadata": {},
   "outputs": [],
   "source": [
    "viz.applyConfiguration(cylID1,pin.SE3ToXYZQUAT(pin.SE3(frame4)))\n",
    "viz.applyConfiguration(cylID2,pin.SE3ToXYZQUAT(pin.SE3(frame4)))"
   ]
  },
  {
   "cell_type": "code",
   "execution_count": 144,
   "metadata": {},
   "outputs": [],
   "source": [
    "viz.applyConfiguration(cylID1,pin.SE3ToXYZQUAT(pin.SE3(1)))\n",
    "viz.applyConfiguration(cylID2,pin.SE3ToXYZQUAT(pin.SE3(1)))"
   ]
  },
  {
   "cell_type": "markdown",
   "metadata": {},
   "source": [
    "In a first time, we will work in 2D. Here is a shortcut to place an object from x,y,theta 2d placement, so-called *planar*. An example of a shorter positioning of a 2D object using this shortcut is:"
   ]
  },
  {
   "cell_type": "code",
   "execution_count": 145,
   "metadata": {},
   "outputs": [
    {
     "ename": "NameError",
     "evalue": "name 'boxID' is not defined",
     "output_type": "error",
     "traceback": [
      "\u001b[0;31m---------------------------------------------------------------------------\u001b[0m",
      "\u001b[0;31mNameError\u001b[0m                                 Traceback (most recent call last)",
      "Cell \u001b[0;32mIn[145], line 1\u001b[0m\n\u001b[0;32m----> 1\u001b[0m viz\u001b[38;5;241m.\u001b[39mapplyConfiguration(\u001b[43mboxID\u001b[49m,planar(\u001b[38;5;241m0.1\u001b[39m, \u001b[38;5;241m0.2\u001b[39m, np\u001b[38;5;241m.\u001b[39mpi \u001b[38;5;241m/\u001b[39m \u001b[38;5;241m3\u001b[39m))\n\u001b[1;32m      2\u001b[0m viz\u001b[38;5;241m.\u001b[39mapplyConfiguration(cylID,planar(\u001b[38;5;241m0.1\u001b[39m, \u001b[38;5;241m0.2\u001b[39m, \u001b[38;5;241m5\u001b[39m\u001b[38;5;241m*\u001b[39mnp\u001b[38;5;241m.\u001b[39mpi \u001b[38;5;241m/\u001b[39m \u001b[38;5;241m6\u001b[39m))\n",
      "\u001b[0;31mNameError\u001b[0m: name 'boxID' is not defined"
     ]
    }
   ],
   "source": [
    "viz.applyConfiguration(boxID,planar(0.1, 0.2, np.pi / 3))\n",
    "viz.applyConfiguration(cylID,planar(0.1, 0.2, 5*np.pi / 6))"
   ]
  },
  {
   "cell_type": "code",
   "execution_count": 146,
   "metadata": {},
   "outputs": [],
   "source": [
    "#viz.delete(ballID)\n",
    "viz.delete(cylID1)\n",
    "viz.delete(cylID2)\n",
    "#viz.delete(boxID)"
   ]
  },
  {
   "cell_type": "code",
   "execution_count": 19,
   "metadata": {},
   "outputs": [],
   "source": [
    "def screw_axis_q(transform):\n",
    "    def skew(x):\n",
    "        return np.array([[0, -x[2], x[1]],\n",
    "                        [x[2], 0, -x[0]],\n",
    "                        [-x[1], x[0], 0]])\n",
    "\n",
    "    s_hat = pin.log(transform).angular / np.linalg.norm(pin.log(transform).angular)\n",
    "    theta_dot = np.linalg.norm(pin.log(transform).angular)\n",
    "    h = s_hat.T @ pin.log(transform).linear / theta_dot\n",
    "\n",
    "    q = np.linalg.pinv(skew(pin.log(transform).angular)) @ (h * pin.log(transform).angular - pin.log(transform).linear)\n",
    "    d = h * theta_dot\n",
    "    return q, d"
   ]
  },
  {
   "cell_type": "code",
   "execution_count": 24,
   "metadata": {},
   "outputs": [],
   "source": [
    "transform = pin.SE3.Random()\n",
    "#transform = pin.XYZQUATToSE3(np.array([1,0,0,1,0,0,0]))"
   ]
  },
  {
   "cell_type": "code",
   "execution_count": 25,
   "metadata": {},
   "outputs": [],
   "source": [
    "cylID1 = 'world/cyl1';   viz.addCylinder(cylID1,length=0.3,radius=.05,color=[0,0,1,1])\n",
    "viz.applyConfiguration(cylID1,pin.SE3ToXYZQUAT(pin.SE3(1)))\n",
    "#transform = pin.SE3.Random()\n",
    "viz.visualize_frame(\"transform\", transform)\n",
    "steps = 200\n",
    "\n",
    "q, d = screw_axis_q(transform)\n",
    "s_dot = pin.log(transform).angular / np.linalg.norm(pin.log(transform).angular)\n",
    "viz.visualize_axis(\"screw_axis\", q, s_dot, d)\n",
    "\n",
    "s_hat = pin.log(transform)\n",
    "for i in range(steps + 1):\n",
    "    alpha = i / steps\n",
    "    # Interpolate between identity (SE3.Identity()) and M using the exponential map of the weighted twist\n",
    "    Mi = pin.exp(alpha * pin.log(transform))\n",
    "    viz.applyConfiguration(cylID1,pin.SE3ToXYZQUAT(pin.SE3(Mi)))\n",
    "    time.sleep(0.01)"
   ]
  },
  {
   "cell_type": "code",
   "execution_count": null,
   "metadata": {},
   "outputs": [],
   "source": [
    "cylID1 = 'world/cyl1';   viz.addCylinder(cylID1,length=0.3,radius=.05,color=[0,0,1,1])\n",
    "viz.applyConfiguration(cylID1,pin.SE3ToXYZQUAT(pin.SE3(1)))\n",
    "#transform = pin.SE3.Random()\n",
    "viz.visualize_frame(\"transform\", transform)\n",
    "steps = 200\n",
    "\n",
    "q, d = screw_axis_q(transform)\n",
    "s_dot = pin.log(transform).angular / np.linalg.norm(pin.log(transform).angular)\n",
    "viz.visualize_axis(\"screw_axis\", q, s_dot, d)\n",
    "\n",
    "s_hat = pin.log(transform)\n",
    "for i in range(steps + 1):\n",
    "    alpha = i / steps\n",
    "    # Interpolate between identity (SE3.Identity()) and M using the exponential map of the weighted twist\n",
    "    Mi = pin.exp(alpha * pin.log(transform))\n",
    "    viz.applyConfiguration(cylID1,pin.SE3ToXYZQUAT(pin.SE3(Mi)))\n",
    "    time.sleep(0.01)"
   ]
  }
 ],
 "metadata": {
  "kernelspec": {
   "display_name": "robotics_tutorials",
   "language": "python",
   "name": "python3"
  },
  "language_info": {
   "codemirror_mode": {
    "name": "ipython",
    "version": 3
   },
   "file_extension": ".py",
   "mimetype": "text/x-python",
   "name": "python",
   "nbconvert_exporter": "python",
   "pygments_lexer": "ipython3",
   "version": "3.10.14"
  }
 },
 "nbformat": 4,
 "nbformat_minor": 2
}
