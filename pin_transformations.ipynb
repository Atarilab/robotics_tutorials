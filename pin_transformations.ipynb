{
 "cells": [
  {
   "cell_type": "markdown",
   "metadata": {},
   "source": [
    "## Transformations in Pinocchio\n",
    "In this tutorial we will introduce how to perform rigid body transformations using the pinocchio library. We will go through the following three exercises:\n",
    "1. Global and Relative Transformations\n",
    "2. Exponential Coordinate Representation of Rigid Body Transforms\n",
    "3. Twist and Wrench Transforms \n",
    "\n",
    "Before we complete the three exercises, we will first perform the setup and demonstrate how to display objects using meshcat."
   ]
  },
  {
   "cell_type": "markdown",
   "metadata": {},
   "source": [
    "## Set up\n",
    "We will need NumPy, Pinocchio, and MeshCat Viewer for vizualizing the robot."
   ]
  },
  {
   "cell_type": "code",
   "execution_count": 1,
   "metadata": {
    "metadata": {}
   },
   "outputs": [],
   "source": [
    "import time\n",
    "import numpy as np\n",
    "import pinocchio as pin\n",
    "from utils.meshcat_viewer_wrapper import MeshcatVisualizer"
   ]
  },
  {
   "cell_type": "markdown",
   "metadata": {},
   "source": [
    "<a id='section_display_objects'></a>\n",
    "## Displaying objects\n",
    "Let's first learn how to open a 3D viewer, in which we will build our simulator. We will use the viewer MeshCat which directly displays in a browser. Open it as follows:"
   ]
  },
  {
   "cell_type": "code",
   "execution_count": 2,
   "metadata": {
    "metadata": {}
   },
   "outputs": [
    {
     "name": "stdout",
     "output_type": "stream",
     "text": [
      "You can open the visualizer by visiting the following URL:\n",
      "http://127.0.0.1:7001/static/\n"
     ]
    }
   ],
   "source": [
    "viz = MeshcatVisualizer()"
   ]
  },
  {
   "cell_type": "markdown",
   "metadata": {},
   "source": [
    "The viz object is a client of the viewer, i.e. it will be use to pass display command to the viewer. The first commands are to create objects:"
   ]
  },
  {
   "cell_type": "code",
   "execution_count": 3,
   "metadata": {
    "metadata": {}
   },
   "outputs": [],
   "source": [
    "ballID = 'world/ball'; viz.addSphere(ballID,.2,[1,0,0,1])\n",
    "boxID = 'world/box';   viz.addBox(boxID,[.5,.2,.4],[1,1,0,1])\n",
    "cylID1 = 'world/cyl1';   viz.addCylinder(cylID1,length=0.3,radius=.05,color=[0,0,1,1])\n",
    "cylID2 = 'world/cyl2';   viz.addCylinder(cylID2,length=0.2,radius=.06,color=[1,1,0,1])"
   ]
  },
  {
   "cell_type": "code",
   "execution_count": 4,
   "metadata": {
    "metadata": {}
   },
   "outputs": [],
   "source": [
    "viz.delete(ballID)\n",
    "viz.delete(boxID)"
   ]
  },
  {
   "cell_type": "markdown",
   "metadata": {},
   "source": [
    "Lets also visualize four random coordinate frames and transform the objects to the frames."
   ]
  },
  {
   "cell_type": "code",
   "execution_count": 5,
   "metadata": {
    "metadata": {}
   },
   "outputs": [],
   "source": [
    "frame1 = pin.SE3.Random()\n",
    "frame2 = pin.SE3.Random()\n",
    "frame3 = pin.SE3.Random()\n",
    "frame4 = pin.SE3.Random()\n",
    "\n",
    "viz.visualize_frame(\"frame1\", frame1)\n",
    "viz.visualize_frame(\"frame2\", frame2)\n",
    "viz.visualize_frame(\"frame3\", frame3)\n",
    "viz.visualize_frame(\"frame4\", frame4)"
   ]
  },
  {
   "cell_type": "markdown",
   "metadata": {},
   "source": [
    "Run the next cell to transform the two cylinders to each frame in meshcat."
   ]
  },
  {
   "cell_type": "code",
   "execution_count": 6,
   "metadata": {},
   "outputs": [],
   "source": [
    "for frame in [frame1, frame2, frame3, frame4]:\n",
    "    viz.applyConfiguration(cylID1,pin.SE3ToXYZQUAT(frame))\n",
    "    viz.applyConfiguration(cylID2,pin.SE3ToXYZQUAT(frame))\n",
    "    time.sleep(0.5)\n",
    "viz.applyConfiguration(cylID1,pin.SE3ToXYZQUAT(pin.SE3(1)))\n",
    "viz.applyConfiguration(cylID2,pin.SE3ToXYZQUAT(pin.SE3(1)))"
   ]
  },
  {
   "cell_type": "code",
   "execution_count": 7,
   "metadata": {
    "metadata": {}
   },
   "outputs": [],
   "source": [
    "viz.delete(\"frame1\")\n",
    "viz.delete(\"frame2\")\n",
    "viz.delete(\"frame3\")\n",
    "viz.delete(\"frame4\")"
   ]
  },
  {
   "cell_type": "markdown",
   "metadata": {},
   "source": [
    "Now that we have seen how to define transformations in pinocchio and how to visualize them in meshcat, lets move onto the first exercise."
   ]
  },
  {
   "cell_type": "markdown",
   "metadata": {},
   "source": [
    "### Exercise 1\n",
    "Given the following relative transformations T_10, T_12, T_23, T43. Find the global transformations T_01, T_02, T_03, T_04 and transform the two cylinders to each frame. Visualize all of the frames and perform the subsequent global transformations to both cylinders. Then run the test cell to make sure that your computed transforms are correct.\n",
    "\n",
    "The transform notation corresponds to the one used in *Modern Robotics*.\n",
    "$$T_{01} = \\begin{bmatrix} \n",
    "    R_{01} & p_{01} \\\\\n",
    "    0 & 1 \n",
    "\\end{bmatrix}$$"
   ]
  },
  {
   "cell_type": "code",
   "execution_count": 8,
   "metadata": {
    "metadata": {}
   },
   "outputs": [],
   "source": [
    "R_10 = np.array([[0.180678, 0.950891, -0.251321],\n",
    "                 [0.89108, -0.266422, -0.367417],\n",
    "                 [-0.416331, -0.157563, -0.895457]])\n",
    "p_10 = np.array([0.740223, 0.593148, -0.640237])\n",
    "T_10 = pin.SE3(R_10, p_10)\n",
    "\n",
    "R_12 = np.array([[-0.246977, 0.817821, -0.51978],\n",
    "                 [0.963818, 0.15181, -0.219108],\n",
    "                 [-0.100284, -0.555088, -0.825724]])\n",
    "p_12 = np.array([1.55288, 0.90413, -0.169165])\n",
    "T_12 = pin.SE3(R_12, p_12)\n",
    "\n",
    "R_23 = np.array([[-0.49966, -0.519852, 0.692888],\n",
    "                 [-0.158395, 0.841243, 0.516935],\n",
    "                 [-0.851617, 0.148542, -0.502677]])\n",
    "p_23 = np.array([-0.150189, -1.25202, 0.767956])\n",
    "T_23 = pin.SE3(R_23, p_23)\n",
    "\n",
    "R_43 = np.array([[0.420593, 0.383923, 0.822013],\n",
    "                 [-0.882899, 0.381713, 0.273467],\n",
    "                 [-0.208782, -0.840773, 0.499511]])\n",
    "p_43 = np.array([0.293482, -0.372091, 0.23161])\n",
    "T_43 = pin.SE3(R_43, p_43)"
   ]
  },
  {
   "cell_type": "code",
   "execution_count": 9,
   "metadata": {
    "metadata": {}
   },
   "outputs": [],
   "source": [
    "T_01 = T_10.inverse()\n",
    "T_02 = T_01 * T_12\n",
    "T_03 = T_01 * T_12 * T_23\n",
    "T_04 = T_01 * T_12 * T_23 * T_43.inverse()"
   ]
  },
  {
   "cell_type": "code",
   "execution_count": 10,
   "metadata": {
    "metadata": {}
   },
   "outputs": [],
   "source": [
    "viz.visualize_frame(\"T_01\", T_01)\n",
    "viz.visualize_frame(\"T_02\", T_02)\n",
    "viz.visualize_frame(\"T_03\", T_03)\n",
    "viz.visualize_frame(\"T_04\", T_04)"
   ]
  },
  {
   "cell_type": "code",
   "execution_count": 11,
   "metadata": {
    "metadata": {}
   },
   "outputs": [],
   "source": [
    "for frame in [T_01, T_02, T_03, T_04]:\n",
    "    viz.applyConfiguration(cylID1,pin.SE3ToXYZQUAT(frame))\n",
    "    viz.applyConfiguration(cylID2,pin.SE3ToXYZQUAT(frame))\n",
    "    time.sleep(1)\n",
    "viz.applyConfiguration(cylID1,pin.SE3ToXYZQUAT(pin.SE3(1)))\n",
    "viz.applyConfiguration(cylID2,pin.SE3ToXYZQUAT(pin.SE3(1)))"
   ]
  },
  {
   "cell_type": "markdown",
   "metadata": {},
   "source": [
    "Fill in the missing parts of the transform_error function to test your transformations against the solutions. An error on the order of 1e-7 is expected for correct transformations."
   ]
  },
  {
   "cell_type": "code",
   "execution_count": 12,
   "metadata": {
    "metadata": {}
   },
   "outputs": [
    {
     "name": "stdout",
     "output_type": "stream",
     "text": [
      "6.14095854715443e-07\n",
      "3.5250915839765295e-07\n",
      "7.520391730676697e-07\n",
      "6.745416992167283e-07\n"
     ]
    }
   ],
   "source": [
    "from sol.pin_transformations import T_01_sol, T_02_sol, T_03_sol, T_04_sol\n",
    "\n",
    "def transform_error(T, T_sol):\n",
    "    SE3_error = pin.log(T_sol.inverse() * T)\n",
    "    scalar_error = np.linalg.norm(SE3_error.linear + SE3_error.angular)\n",
    "    return scalar_error\n",
    "\n",
    "print(transform_error(T_01, T_01_sol))\n",
    "print(transform_error(T_02, T_02_sol))\n",
    "print(transform_error(T_03, T_03_sol))\n",
    "print(transform_error(T_04, T_04_sol))"
   ]
  },
  {
   "cell_type": "code",
   "execution_count": 13,
   "metadata": {
    "metadata": {}
   },
   "outputs": [],
   "source": [
    "viz.delete(\"T_01\")\n",
    "viz.delete(\"T_02\")\n",
    "viz.delete(\"T_03\")\n",
    "viz.delete(\"T_04\")\n",
    "viz.delete(cylID1)\n",
    "viz.delete(cylID2)"
   ]
  },
  {
   "cell_type": "markdown",
   "metadata": {},
   "source": [
    "### Exercise 2\n",
    "In this exercise we will visualize the screw interpretation of a rigid body transformation. Through this we will get practice with the exponential coordinate representation of rigid body transformations."
   ]
  },
  {
   "cell_type": "markdown",
   "metadata": {},
   "source": [
    "First lets get familiar with the pinocchio implementations of the log and exp functions that we learned about in the lecture."
   ]
  },
  {
   "cell_type": "markdown",
   "metadata": {},
   "source": [
    "$$\\begin{aligned}\n",
    "    \\text{log}: &\\quad T \\in SE(3) \\quad \\rightarrow \\quad {\\mathcal{V}} = [S]\\theta \\in se(3).\n",
    "\\end{aligned}$$"
   ]
  },
  {
   "cell_type": "code",
   "execution_count": 14,
   "metadata": {
    "metadata": {}
   },
   "outputs": [
    {
     "name": "stdout",
     "output_type": "stream",
     "text": [
      "Rigid Body Transform in SE(3):\n",
      "  R =\n",
      " 0.180678   0.89108 -0.416331\n",
      " 0.950891 -0.266422 -0.157563\n",
      "-0.251321 -0.367417 -0.895457\n",
      "  p = -0.928835 -0.646721 -0.169338\n",
      "\n",
      "Twist V in se(3) associated with the Rigid Body Transform in SE(3):\n",
      "  v =   -1.1947 -0.142939  0.287799\n",
      "  w = -2.30461 -1.81213 0.656842\n",
      "\n",
      "[-1.19470225 -0.14293948  0.28779915]\n",
      "[-2.30460792 -1.81213297  0.65684192]\n"
     ]
    }
   ],
   "source": [
    "print(\"Rigid Body Transform in SE(3):\")\n",
    "print(T_01)\n",
    "print(\"Twist V in se(3) associated with the Rigid Body Transform in SE(3):\")\n",
    "V_01 = pin.log(T_01)\n",
    "print(V_01)\n",
    "print(V_01.linear)\n",
    "print(V_01.angular)"
   ]
  },
  {
   "cell_type": "markdown",
   "metadata": {},
   "source": [
    "$$\\begin{aligned}\n",
    "    \\text{log}: &\\quad R \\in SO(3) \\quad \\rightarrow \\quad \\omega = [\\hat{\\omega}]\\theta \\in so(3).\n",
    "\\end{aligned}$$"
   ]
  },
  {
   "cell_type": "code",
   "execution_count": 15,
   "metadata": {
    "metadata": {}
   },
   "outputs": [
    {
     "name": "stdout",
     "output_type": "stream",
     "text": [
      "Matrix log of SO(3)\n",
      "omega = [-2.30460792 -1.81213297  0.65684192] \n",
      "\n"
     ]
    }
   ],
   "source": [
    "print(\"Matrix log of SO(3)\")\n",
    "omega = pin.log3(T_01.rotation)\n",
    "print(\"omega =\", omega,\"\\n\")"
   ]
  },
  {
   "cell_type": "markdown",
   "metadata": {},
   "source": [
    "Recovering $\\hat{\\omega}$ and $\\theta$ can be done using the algorithm from section 3.2.3.3 of *Modern Robotics*. Take a look at it if you would like to know the details. In pinocchio we can simply call pin.AngleAxis."
   ]
  },
  {
   "cell_type": "code",
   "execution_count": 16,
   "metadata": {
    "metadata": {}
   },
   "outputs": [
    {
     "name": "stdout",
     "output_type": "stream",
     "text": [
      "Angle axis representation of an SO(3) element\n",
      "angle: 3.00437\n",
      "axis: -0.767075 -0.603157  0.218624\n",
      "\n",
      "Recover axis from omega\n",
      "omega_hat = [-0.76708421 -0.60316489  0.21862854]\n"
     ]
    }
   ],
   "source": [
    "print(\"Angle axis representation of an SO(3) element\")\n",
    "print(pin.AngleAxis(T_01.rotation))\n",
    "print(\"Recover axis from omega\")\n",
    "print(\"omega_hat =\", omega / pin.AngleAxis(T_01.rotation).angle)"
   ]
  },
  {
   "cell_type": "markdown",
   "metadata": {},
   "source": [
    "$$\\begin{aligned}\n",
    "    \\text{exp}: &\\quad {\\mathcal{V}} = [S]\\theta \\in se(3) \\quad \\rightarrow \\quad T \\in SE(3)\n",
    "\\end{aligned}$$"
   ]
  },
  {
   "cell_type": "code",
   "execution_count": 18,
   "metadata": {
    "metadata": {}
   },
   "outputs": [
    {
     "name": "stdout",
     "output_type": "stream",
     "text": [
      "Matrix exponential for se(3):\n",
      "  R =\n",
      " 0.180674   0.89109 -0.416312\n",
      " 0.950885 -0.266425 -0.157594\n",
      "-0.251346 -0.367392  -0.89546\n",
      "  p = -0.928848 -0.646741 -0.169335\n",
      "\n"
     ]
    }
   ],
   "source": [
    "print(\"Matrix exponential for se(3):\")\n",
    "print(pin.exp(V_01))"
   ]
  },
  {
   "cell_type": "markdown",
   "metadata": {},
   "source": [
    "$$\\begin{aligned}\n",
    "    \\text{exp}: &\\quad \\omega = [\\hat{\\omega}]\\theta \\in so(3) \\quad \\rightarrow \\quad R \\in SO(3)\n",
    "\\end{aligned}$$"
   ]
  },
  {
   "cell_type": "code",
   "execution_count": 19,
   "metadata": {
    "metadata": {}
   },
   "outputs": [
    {
     "name": "stdout",
     "output_type": "stream",
     "text": [
      "Matrix exponential for so(3):\n",
      "[[ 0.18067434  0.89108975 -0.4163122 ]\n",
      " [ 0.95088475 -0.26642516 -0.15759389]\n",
      " [-0.25134634 -0.36739175 -0.89545984]]\n",
      "Compare to original rotation matrix:\n",
      "[[ 0.180678  0.89108  -0.416331]\n",
      " [ 0.950891 -0.266422 -0.157563]\n",
      " [-0.251321 -0.367417 -0.895457]]\n"
     ]
    }
   ],
   "source": [
    "print(\"Matrix exponential for so(3):\")\n",
    "print(pin.exp3(omega))\n",
    "print(\"Compare to original rotation matrix:\")\n",
    "print(T_01.rotation)"
   ]
  },
  {
   "cell_type": "markdown",
   "metadata": {},
   "source": [
    "Now that we have presented the necessary pinocchio functions, let's move on to the exercise."
   ]
  },
  {
   "cell_type": "markdown",
   "metadata": {},
   "source": [
    "The goal of this exercise is to visualize a rigid body transformation using the screw interpretation of a twist. Fill in the missing parts of the code below. Here the function screw_axis_q() should return the position q of the axis in space and distance d travelled on the screw axis and s_hat the unit vector representing the direction of the screw axis. This equation is found in section 3.3.2.2 in *Modern Robotics*:  \n",
    "$${\\mathcal{V}} = \\begin{bmatrix}\n",
    "\\omega \\\\\n",
    "v\n",
    "\\end{bmatrix} = \\begin{bmatrix}\n",
    "\\hat{s} \\dot{\\theta} \\\\\n",
    "-\\hat{s} \\dot{\\theta} \\times q + h \\hat{s} \\dot{\\theta}\n",
    "\\end{bmatrix} \\\\\\text{where}:\\\\\n",
    "\\dot{\\theta} = \\lVert \\omega \\rVert\\\\\n",
    "\\hat{s} = \\omega / \\lVert \\omega \\rVert\\\\\n",
    "h = \\hat{\\omega}^Tv/\\dot{\\theta}$$"
   ]
  },
  {
   "cell_type": "markdown",
   "metadata": {},
   "source": [
    "hints:  \n",
    "see relevant section in book for detailed explanation.  \n",
    "$\\text{pin.skew}(\\omega) = [\\omega]$"
   ]
  },
  {
   "cell_type": "code",
   "execution_count": 20,
   "metadata": {
    "metadata": {}
   },
   "outputs": [],
   "source": [
    "def screw_axis_q(se3_twist):\n",
    "    \"\"\"args:\n",
    "    se3_twist: pin se3 object\n",
    "    returns:\n",
    "    q: 3x1 np array\n",
    "    d: float\n",
    "    \"\"\"\n",
    "    s_hat = se3_twist.angular / np.linalg.norm(se3_twist.angular)\n",
    "    theta_dot = np.linalg.norm(se3_twist.angular)\n",
    "    h = s_hat.T @ se3_twist.linear / theta_dot\n",
    "\n",
    "    q = np.linalg.pinv(pin.skew(se3_twist.angular)) @ \\\n",
    "        (h * se3_twist.angular - se3_twist.linear)\n",
    "    d = h * theta_dot\n",
    "    return q, d, s_hat"
   ]
  },
  {
   "cell_type": "code",
   "execution_count": 21,
   "metadata": {
    "metadata": {}
   },
   "outputs": [],
   "source": [
    "cylID1 = 'world/cyl1';   viz.addCylinder(cylID1,length=0.3,radius=.05,color=[0,0,1,1])\n",
    "viz.applyConfiguration(cylID1,pin.SE3ToXYZQUAT(pin.SE3(1)))"
   ]
  },
  {
   "cell_type": "markdown",
   "metadata": {},
   "source": [
    "First lets test the visualization on a simple example."
   ]
  },
  {
   "cell_type": "code",
   "execution_count": 22,
   "metadata": {
    "metadata": {}
   },
   "outputs": [],
   "source": [
    "transform = pin.SE3(pin.utils.rotate('x',np.pi), np.array([1,0,0]))\n",
    "viz.visualize_frame(\"transform\", transform)\n",
    "\n",
    "V = pin.log(transform)\n",
    "q, d, s_hat = screw_axis_q(V)\n",
    "\n",
    "viz.visualize_axis(\"screw_axis\", q, s_hat, d)\n",
    "\n",
    "steps = 200\n",
    "for i in range(steps + 1):\n",
    "    alpha = i / steps\n",
    "    # Interpolate using the exponential map of the weighted twist\n",
    "    Ti = pin.exp(alpha * V)\n",
    "    viz.applyConfiguration(cylID1,pin.SE3ToXYZQUAT(Ti))\n",
    "    time.sleep(0.01)"
   ]
  },
  {
   "cell_type": "markdown",
   "metadata": {},
   "source": [
    "See if your transform is the same as the one shown in the video below."
   ]
  },
  {
   "cell_type": "code",
   "execution_count": 23,
   "metadata": {},
   "outputs": [
    {
     "data": {
      "text/html": [
       "<video src=\"videos/simple_screw_transform.mp4\" controls  >\n",
       "      Your browser does not support the <code>video</code> element.\n",
       "    </video>"
      ],
      "text/plain": [
       "<IPython.core.display.Video object>"
      ]
     },
     "execution_count": 23,
     "metadata": {},
     "output_type": "execute_result"
    }
   ],
   "source": [
    "from IPython.display import Video\n",
    "\n",
    "video_path = \"videos/simple_screw_transform.mp4\"\n",
    "Video(video_path)"
   ]
  },
  {
   "cell_type": "code",
   "execution_count": 24,
   "metadata": {
    "metadata": {}
   },
   "outputs": [],
   "source": [
    "viz.applyConfiguration(cylID1,pin.SE3ToXYZQUAT(pin.SE3(1)))\n",
    "viz.delete(\"transform\")\n",
    "viz.delete(\"screw_axis\")"
   ]
  },
  {
   "cell_type": "markdown",
   "metadata": {},
   "source": [
    "Now find visualize the screw transformation on two consecutive transformations. We will use T_01 and T_02 from the previous exercise."
   ]
  },
  {
   "cell_type": "code",
   "execution_count": 25,
   "metadata": {
    "metadata": {}
   },
   "outputs": [],
   "source": [
    "viz.applyConfiguration(cylID1,pin.SE3ToXYZQUAT(pin.SE3(1)))\n",
    "viz.visualize_frame(\"T_01\", T_01)\n",
    "viz.visualize_frame(\"T_02\", T_02)\n",
    "steps = 200\n",
    "\n",
    "V = pin.log(T_01)\n",
    "q, d, s_hat = screw_axis_q(V)\n",
    "viz.visualize_axis(\"screw_axis\", q, s_hat, d)\n",
    "\n",
    "for i in range(steps + 1):\n",
    "    alpha = i / steps\n",
    "    # Interpolate using the exponential map of the weighted twist\n",
    "    Ti = pin.exp(alpha * V)\n",
    "    viz.applyConfiguration(cylID1,pin.SE3ToXYZQUAT(Ti))\n",
    "    time.sleep(0.01)"
   ]
  },
  {
   "cell_type": "markdown",
   "metadata": {},
   "source": [
    "Fill in the missing code and run to see the relative transform."
   ]
  },
  {
   "cell_type": "code",
   "execution_count": 26,
   "metadata": {},
   "outputs": [],
   "source": [
    "T_12 = T_01.inverse() * T_02\n",
    "steps = 200\n",
    "\n",
    "V_12 = pin.log(T_12)\n",
    "q_1, d, s_hat_1 = screw_axis_q(V_12)\n",
    "# Transform q_1 and s_hat_1 to the global frame 0\n",
    "q_0 = (T_01.homogeneous @ np.append(q_1,[1]))[:3]\n",
    "s_hat_0 = T_01.rotation @ s_hat_1\n",
    "viz.visualize_axis(\"screw_axis\", q_0, s_hat_0, d)\n",
    "\n",
    "for i in range(steps + 1):\n",
    "    alpha = i / steps\n",
    "    # Interpolate using the exponential map of the weighted twist\n",
    "    Ti_12 = pin.exp(alpha * V_12)\n",
    "    viz.applyConfiguration(cylID1,pin.SE3ToXYZQUAT(T_01 * Ti_12))\n",
    "    time.sleep(0.01)"
   ]
  },
  {
   "cell_type": "code",
   "execution_count": 27,
   "metadata": {},
   "outputs": [],
   "source": [
    "viz.applyConfiguration(cylID1,pin.SE3ToXYZQUAT(pin.SE3(1)))\n",
    "viz.delete(\"T_01\")\n",
    "viz.delete(\"T_02\")\n",
    "viz.delete(\"screw_axis\")\n",
    "viz.delete(cylID1)"
   ]
  },
  {
   "cell_type": "markdown",
   "metadata": {},
   "source": [
    "## Exercise 3\n",
    "In this exercise we will use pinocchio to transform twists and wrenches between different coordinate frames. Check out the next cell to see how twists and wrenches are defined in pinocchio. Then complete the missing code in the cell with the adjoint_from_SE3() function and manually perform the change of coordinate for both the twist and the wrench. Compare your results with what is outputted in the cell below."
   ]
  },
  {
   "cell_type": "code",
   "execution_count": 28,
   "metadata": {},
   "outputs": [
    {
     "name": "stdout",
     "output_type": "stream",
     "text": [
      "  v =  1.39733 -0.58774 -5.38554\n",
      "  w =  -1.12673   1.05975 -0.779361\n",
      "\n",
      "  f =  0.713845 -0.054642  -3.67253\n",
      "tau =   1.23912   -2.4723 -0.266949\n",
      "\n"
     ]
    }
   ],
   "source": [
    "# Twist in Global Frame\n",
    "V_0 = pin.Motion(np.array([1,2,3]), np.array([1,-1,1]))\n",
    "print(T_01 * V_0)\n",
    "# Wrench in Global Frame\n",
    "W_0 = pin.Force(np.array([1,2,3]), np.array([1,-1,1]))\n",
    "print(T_01 * W_0)"
   ]
  },
  {
   "cell_type": "markdown",
   "metadata": {},
   "source": [
    "#### Twist change of coordinate frame\n",
    "$${\\mathcal{V}_a} = [\\text{Ad}_{T_{ab}}]{\\mathcal{V}_b}$$"
   ]
  },
  {
   "cell_type": "markdown",
   "metadata": {},
   "source": [
    "#### Wrench change of coordinate frame\n",
    "$${\\mathcal{F}_a} = [\\text{Ad}_{T_{ba}}]^T{\\mathcal{F}_b}$$"
   ]
  },
  {
   "cell_type": "markdown",
   "metadata": {},
   "source": [
    "Hint for wrench transform:\n",
    "$$[\\text{Ad}_T]^{-1} = [\\text{Ad}_{T^{-1}}]$$"
   ]
  },
  {
   "cell_type": "code",
   "execution_count": 29,
   "metadata": {},
   "outputs": [],
   "source": [
    "def adjoint_from_SE3(SE3):\n",
    "    \"\"\"\"\n",
    "    input: pinocchio SE3 object\n",
    "    output: 6x6 numpy array\n",
    "    \"\"\"\n",
    "    Adj = np.block([[SE3.rotation, np.zeros((3,3))],\n",
    "              [pin.skew(SE3.translation) @ SE3.rotation, SE3.rotation]])\n",
    "    return Adj"
   ]
  },
  {
   "cell_type": "markdown",
   "metadata": {},
   "source": [
    "Compare the your transformation with that done above with pinocchio"
   ]
  },
  {
   "cell_type": "code",
   "execution_count": 30,
   "metadata": {},
   "outputs": [
    {
     "name": "stdout",
     "output_type": "stream",
     "text": [
      "Twist in global frame\n",
      "[-1.126733    1.05975    -0.779361    1.39733085 -0.58774042 -5.38554104]\n",
      "Wrench in global frame\n",
      "[ 1.23911445 -2.47230101 -0.26694735  0.713845   -0.054642   -3.672526  ]\n"
     ]
    }
   ],
   "source": [
    "Adj_T_01 = adjoint_from_SE3(T_01)\n",
    "print(\"Twist in global frame\")\n",
    "print(Adj_T_01 @ np.hstack((V_0.angular, V_0.linear)))\n",
    "Adj_T_10 = adjoint_from_SE3(T_01.inverse())\n",
    "print(\"Wrench in global frame\")\n",
    "print(Adj_T_10.T @ np.hstack((W_0.angular, W_0.linear)))"
   ]
  }
 ],
 "metadata": {
  "kernelspec": {
   "display_name": "robotics_tutorials",
   "language": "python",
   "name": "python3"
  },
  "language_info": {
   "codemirror_mode": {
    "name": "ipython",
    "version": 3
   },
   "file_extension": ".py",
   "mimetype": "text/x-python",
   "name": "python",
   "nbconvert_exporter": "python",
   "pygments_lexer": "ipython3",
   "version": "3.10.14"
  }
 },
 "nbformat": 4,
 "nbformat_minor": 2
}
