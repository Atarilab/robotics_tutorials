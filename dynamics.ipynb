{
 "cells": [
  {
   "cell_type": "code",
   "execution_count": 1,
   "metadata": {},
   "outputs": [],
   "source": [
    "import time\n",
    "import numpy as np\n",
    "import pinocchio as pin\n",
    "from robot_descriptions.loaders.pinocchio import load_robot_description\n",
    "from utils.meshcat_viewer_wrapper import MeshcatVisualizer\n"
   ]
  },
  {
   "cell_type": "code",
   "execution_count": 2,
   "metadata": {},
   "outputs": [
    {
     "name": "stdout",
     "output_type": "stream",
     "text": [
      "You can open the visualizer by visiting the following URL:\n",
      "http://127.0.0.1:7000/static/\n"
     ]
    }
   ],
   "source": [
    "robot = load_robot_description('ur5_description')\n",
    "viz = MeshcatVisualizer(robot)"
   ]
  },
  {
   "cell_type": "code",
   "execution_count": 3,
   "metadata": {},
   "outputs": [],
   "source": [
    "q = pin.neutral(robot.model)\n",
    "viz.display(q)"
   ]
  },
  {
   "cell_type": "markdown",
   "metadata": {},
   "source": [
    "Given the rigid body dynamics equation we learned from the lecture:\n",
    "$$\n",
    "M(q)\\ddot{q} = \\tau(t) - h(q, \\dot{q}) - J_{ee}^{\\mathrm{T}}(q)\\mathcal{F}_{ee}\n",
    "$$\n",
    "We can use pinocchio to calculate the mass matrix M via the composite rigid body algorithm and the nonlinear effects h."
   ]
  },
  {
   "cell_type": "code",
   "execution_count": 4,
   "metadata": {},
   "outputs": [],
   "source": [
    "vq = np.zeros(robot.model.nv)\n",
    "M = pin.crba(robot.model, robot.data, q)\n",
    "h = pin.nle(robot.model, robot.data, q, vq)"
   ]
  },
  {
   "cell_type": "markdown",
   "metadata": {},
   "source": [
    "In order to simulate the forward dynamics we can solve directly for $\\ddot{q}$:\n",
    "$$\n",
    "\\ddot{q} = M(q)^{-1}(\\tau(t) - h(q, \\dot{q}) - J_{ee}^{\\mathrm{T}}(q)\\mathcal{F}_{ee})\n",
    "$$\n",
    "This can be done directly with pinoccio by using the articulated body algorithm aba. Read through the loop below and run the cell to see the dynamics simulation."
   ]
  },
  {
   "cell_type": "code",
   "execution_count": 5,
   "metadata": {},
   "outputs": [],
   "source": [
    "q = np.array([0,-np.pi/2,0,0,0,0])\n",
    "vq = np.zeros(robot.model.nv)\n",
    "viz.display(q)\n",
    "\n",
    "dt = 2e-3\n",
    "N_steps = 5000\n",
    "\n",
    "for it in range(N_steps):\n",
    "    t = it*dt\n",
    "\n",
    "    # Compute the force that apply\n",
    "    tauq = np.zeros(robot.model.nv)\n",
    "\n",
    "    # Use aba forward dynamics to calculate aq\n",
    "    aq = pin.aba(robot.model, robot.data, q, vq, tauq)\n",
    "\n",
    "    # Double integration to update vq and q\n",
    "    vq += aq * dt\n",
    "    q = pin.integrate(robot.model, q, vq * dt)\n",
    "\n",
    "    # Visualization\n",
    "    if it%20==0: \n",
    "        viz.display(q)\n",
    "        time.sleep(20*dt)"
   ]
  },
  {
   "cell_type": "markdown",
   "metadata": {},
   "source": [
    "Now lets add friction to the dynamics. Fill in the missing code for aq. This time don't use the aba, but write it directly so you can add a friction term $\\mathcal{K}\\dot{q}$ to simulate the dynamics with friction. "
   ]
  },
  {
   "cell_type": "code",
   "execution_count": 6,
   "metadata": {},
   "outputs": [],
   "source": [
    "q = np.array([0,-np.pi/2,0,0,0,0])\n",
    "vq = np.zeros(robot.model.nv)\n",
    "viz.display(q)\n",
    "\n",
    "dt = 2e-3\n",
    "N_steps = 5000\n",
    "Kf = 0.3\n",
    "\n",
    "for it in range(N_steps):\n",
    "    t = it*dt\n",
    "\n",
    "    M = pin.crba(robot.model, robot.data, q)\n",
    "    b = pin.nle(robot.model, robot.data, q, vq)\n",
    "\n",
    "    # Zero torque applied at the joints\n",
    "    tauq = np.zeros(robot.model.nv)\n",
    "\n",
    "    # Dynamics equation with friction\n",
    "    aq = np.linalg.pinv(M) @ (tauq - Kf * vq - b)\n",
    "    # Double integration to update vq and q\n",
    "    vq += aq * dt\n",
    "    q = pin.integrate(robot.model, q, vq * dt)\n",
    "\n",
    "    # Visualization\n",
    "    if it%20==0: \n",
    "        viz.display(q)\n",
    "        time.sleep(20*dt)"
   ]
  },
  {
   "cell_type": "markdown",
   "metadata": {},
   "source": [
    "We can also solve the inverse dynamics using the recursive newton euler algorithm. This will find the torques $\\tau$ for a given $(q, \\dot{q}, \\ddot{q}, \\mathcal{F_{ee}})$ in our case $\\mathcal{F_{ee}} = \\mathbf{0}$.\n",
    "$$\n",
    "\\tau = M(q)\\ddot{q} + h(q, \\dot{q})\n",
    "$$"
   ]
  },
  {
   "cell_type": "markdown",
   "metadata": {},
   "source": [
    "Run the cell below to see the dynamics simulation with inverse dynamics to hold the initial configuration."
   ]
  },
  {
   "cell_type": "code",
   "execution_count": 7,
   "metadata": {},
   "outputs": [],
   "source": [
    "q = np.array([0,-np.pi/2,np.pi/2,0,0,0])\n",
    "vq = np.zeros(robot.model.nv)\n",
    "# Set the desired joint values\n",
    "q_des = q\n",
    "vq_des = np.zeros(robot.model.nv)\n",
    "aq_des = vq = np.zeros(robot.model.nv)\n",
    "viz.display(q)\n",
    "\n",
    "dt = 2e-3\n",
    "N_steps = 5000\n",
    "Kf = 0.3\n",
    "\n",
    "for it in range(N_steps):\n",
    "    t = it*dt\n",
    "\n",
    "    # Compute the torque using inverse dynamics\n",
    "    tauq = pin.rnea(robot.model, robot.data, q_des, vq_des, aq_des)\n",
    "\n",
    "    aq = pin.aba(robot.model, robot.data, q, vq, tauq)\n",
    "    # Double integration to update vq and q\n",
    "    vq += aq * dt\n",
    "    q = pin.integrate(robot.model, q, vq * dt)\n",
    "\n",
    "    # Visualization\n",
    "    if it%20==0: \n",
    "        viz.display(q)\n",
    "        time.sleep(20*dt)"
   ]
  },
  {
   "cell_type": "markdown",
   "metadata": {},
   "source": [
    "The robot eventually diverges when computing torques this way. What are the problems with this approach? What could be done differently?"
   ]
  }
 ],
 "metadata": {
  "kernelspec": {
   "display_name": "robotics_tutorials",
   "language": "python",
   "name": "python3"
  },
  "language_info": {
   "codemirror_mode": {
    "name": "ipython",
    "version": 3
   },
   "file_extension": ".py",
   "mimetype": "text/x-python",
   "name": "python",
   "nbconvert_exporter": "python",
   "pygments_lexer": "ipython3",
   "version": "3.10.14"
  }
 },
 "nbformat": 4,
 "nbformat_minor": 2
}
