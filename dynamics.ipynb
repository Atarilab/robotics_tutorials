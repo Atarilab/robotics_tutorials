{
 "cells": [
  {
   "cell_type": "code",
   "execution_count": 24,
   "metadata": {},
   "outputs": [],
   "source": [
    "import time\n",
    "import numpy as np\n",
    "import pinocchio as pin\n",
    "from example_robot_data import load\n",
    "from utils.meshcat_viewer_wrapper import MeshcatVisualizer\n"
   ]
  },
  {
   "cell_type": "code",
   "execution_count": 25,
   "metadata": {},
   "outputs": [
    {
     "name": "stdout",
     "output_type": "stream",
     "text": [
      "You can open the visualizer by visiting the following URL:\n",
      "http://127.0.0.1:7012/static/\n"
     ]
    }
   ],
   "source": [
    "robot = load('ur5')\n",
    "viz = MeshcatVisualizer(robot)\n",
    "viz.display(pin.neutral(robot.model))"
   ]
  },
  {
   "cell_type": "code",
   "execution_count": 8,
   "metadata": {},
   "outputs": [],
   "source": [
    "q = pin.neutral(robot.model)\n",
    "v = np.zeros(robot.model.nv)\n",
    "vq = np.zeros(robot.model.nv)"
   ]
  },
  {
   "cell_type": "code",
   "execution_count": 7,
   "metadata": {},
   "outputs": [],
   "source": [
    "M = pin.crba(robot.model, robot.data, q)\n",
    "b = pin.nle(robot.model, robot.data, q, vq)"
   ]
  },
  {
   "cell_type": "code",
   "execution_count": 107,
   "metadata": {},
   "outputs": [],
   "source": [
    "q = pin.neutral(robot.model)\n",
    "q = np.array([0,-np.pi/2,0,0,0,0])\n",
    "vq = np.zeros(robot.model.nv)\n",
    "viz.display(q)\n",
    "\n",
    "dt = 2e-3\n",
    "N_steps = 5000\n",
    "\n",
    "for it in range(N_steps):\n",
    "    t = it*dt\n",
    "\n",
    "    # Compute the force that apply\n",
    "    tauq = np.zeros(robot.model.nv)\n",
    "\n",
    "    # Use aba forward dynamics to calculate aq\n",
    "    aq = pin.aba(robot.model, robot.data, q, vq, tauq)\n",
    "\n",
    "    # Double integration to update vq and q\n",
    "    vq += aq * dt\n",
    "    q = pin.integrate(robot.model, q, vq * dt)\n",
    "\n",
    "    # Visualization\n",
    "    if it%20==0: \n",
    "        viz.display(q)\n",
    "        time.sleep(20*dt)"
   ]
  },
  {
   "cell_type": "code",
   "execution_count": 108,
   "metadata": {},
   "outputs": [],
   "source": [
    "q = pin.neutral(robot.model)\n",
    "q = np.array([0,-np.pi/2,0,0,0,0])\n",
    "vq = np.zeros(robot.model.nv)\n",
    "viz.display(q)\n",
    "\n",
    "dt = 2e-3\n",
    "N_steps = 5000\n",
    "Kf = 0.3\n",
    "\n",
    "for it in range(N_steps):\n",
    "    t = it*dt\n",
    "\n",
    "    # Retrieve the dynamics quantity at time t\n",
    "    M = pin.crba(robot.model, robot.data, q)\n",
    "    b = pin.nle(robot.model, robot.data, q, vq)\n",
    "\n",
    "    # Compute the force that apply\n",
    "    tauq = np.zeros(robot.model.nv)\n",
    "\n",
    "    # Use generalized PFD to calculate aq\n",
    "    aq = np.linalg.pinv(M) @ (tauq - Kf * vq - b)\n",
    "    # Double integration to update vs and q\n",
    "    vq += aq * dt\n",
    "    q = pin.integrate(robot.model, q, vq * dt)\n",
    "\n",
    "    # Visualization\n",
    "    if it%20==0: \n",
    "        viz.display(q)\n",
    "        time.sleep(20*dt)"
   ]
  }
 ],
 "metadata": {
  "kernelspec": {
   "display_name": "robotics_tutorials",
   "language": "python",
   "name": "python3"
  },
  "language_info": {
   "codemirror_mode": {
    "name": "ipython",
    "version": 3
   },
   "file_extension": ".py",
   "mimetype": "text/x-python",
   "name": "python",
   "nbconvert_exporter": "python",
   "pygments_lexer": "ipython3",
   "version": "3.10.14"
  }
 },
 "nbformat": 4,
 "nbformat_minor": 2
}
