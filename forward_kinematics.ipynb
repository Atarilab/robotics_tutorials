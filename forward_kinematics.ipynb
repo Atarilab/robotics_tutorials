{
 "cells": [
  {
   "cell_type": "code",
   "execution_count": 1,
   "metadata": {},
   "outputs": [],
   "source": [
    "import time\n",
    "import numpy as np\n",
    "import pinocchio as pin\n",
    "from robot_descriptions.loaders.pinocchio import load_robot_description\n",
    "from utils.meshcat_viewer_wrapper import MeshcatVisualizer\n"
   ]
  },
  {
   "cell_type": "code",
   "execution_count": 2,
   "metadata": {},
   "outputs": [
    {
     "name": "stdout",
     "output_type": "stream",
     "text": [
      "You can open the visualizer by visiting the following URL:\n",
      "http://127.0.0.1:7002/static/\n"
     ]
    }
   ],
   "source": [
    "robot = load_robot_description('ur5_description')\n",
    "viz = MeshcatVisualizer(robot)"
   ]
  },
  {
   "cell_type": "markdown",
   "metadata": {},
   "source": [
    "Lets visualize the neutral position of the robot in the next cell and then we will print out the frames contained in the robot model."
   ]
  },
  {
   "cell_type": "code",
   "execution_count": 3,
   "metadata": {},
   "outputs": [],
   "source": [
    "q = pin.neutral(robot.model)\n",
    "viz.display(q)"
   ]
  },
  {
   "cell_type": "code",
   "execution_count": 4,
   "metadata": {},
   "outputs": [
    {
     "name": "stdout",
     "output_type": "stream",
     "text": [
      "Frame 0: universe\n",
      "Frame 1: root_joint\n",
      "Frame 2: world\n",
      "Frame 3: world_joint\n",
      "Frame 4: base_link\n",
      "Frame 5: base_link-base_fixed_joint\n",
      "Frame 6: base\n",
      "Frame 7: shoulder_pan_joint\n",
      "Frame 8: shoulder_link\n",
      "Frame 9: shoulder_lift_joint\n",
      "Frame 10: upper_arm_link\n",
      "Frame 11: elbow_joint\n",
      "Frame 12: forearm_link\n",
      "Frame 13: wrist_1_joint\n",
      "Frame 14: wrist_1_link\n",
      "Frame 15: wrist_2_joint\n",
      "Frame 16: wrist_2_link\n",
      "Frame 17: wrist_3_joint\n",
      "Frame 18: wrist_3_link\n",
      "Frame 19: ee_fixed_joint\n",
      "Frame 20: ee_link\n",
      "Frame 21: wrist_3_link-tool0_fixed_joint\n",
      "Frame 22: tool0\n"
     ]
    }
   ],
   "source": [
    "for i in range(robot.model.nframes):\n",
    "    frame = robot.model.frames[i]\n",
    "    print(f\"Frame {i}: {frame.name}\")"
   ]
  },
  {
   "cell_type": "markdown",
   "metadata": {},
   "source": [
    "The following prints out the joint frames, these are typically the actuated joints of the robot. In a pinocchio model there is also always a Joint 0 which corresponds to the world frame which is named universe."
   ]
  },
  {
   "cell_type": "code",
   "execution_count": 5,
   "metadata": {},
   "outputs": [
    {
     "name": "stdout",
     "output_type": "stream",
     "text": [
      "Joint 0: universe\n",
      "Joint 1: shoulder_pan_joint\n",
      "Joint 2: shoulder_lift_joint\n",
      "Joint 3: elbow_joint\n",
      "Joint 4: wrist_1_joint\n",
      "Joint 5: wrist_2_joint\n",
      "Joint 6: wrist_3_joint\n"
     ]
    }
   ],
   "source": [
    "for i in range(robot.model.njoints):\n",
    "    joint = robot.model.joints[i]\n",
    "    joint_name = robot.model.names[i]\n",
    "    print(f\"Joint {i}: {joint_name}\")"
   ]
  },
  {
   "cell_type": "markdown",
   "metadata": {},
   "source": [
    "Now lets print out the position of each joint frame."
   ]
  },
  {
   "cell_type": "code",
   "execution_count": 6,
   "metadata": {},
   "outputs": [
    {
     "name": "stdout",
     "output_type": "stream",
     "text": [
      "universe                 :  0.00  0.00  0.00\n",
      "shoulder_pan_joint       :  0.00  0.00  0.00\n",
      "shoulder_lift_joint      :  0.00  0.00  0.00\n",
      "elbow_joint              :  0.00  0.00  0.00\n",
      "wrist_1_joint            :  0.00  0.00  0.00\n",
      "wrist_2_joint            :  0.00  0.00  0.00\n",
      "wrist_3_joint            :  0.00  0.00  0.00\n"
     ]
    }
   ],
   "source": [
    "for name, oMi in zip(robot.model.names, robot.data.oMi):\n",
    "    print((\"{:<24} : {: .2f} {: .2f} {: .2f}\"\n",
    "          .format( name, *oMi.translation.T.flat )))"
   ]
  },
  {
   "cell_type": "markdown",
   "metadata": {},
   "source": [
    "As you can see all frames are zero which is not correct. That is because we are using robot.data to print them. In order for the data to be updated in robot.data, we have to call the forward kinematics. Also any other info like velocities, accelerations, forces etc are contained in this data structure. For more info on this take a look at the Data section of the cheatsheet https://github.com/stack-of-tasks/pinocchio/blob/master/doc/pinocchio_cheat_sheet.pdf"
   ]
  },
  {
   "cell_type": "markdown",
   "metadata": {},
   "source": [
    "Now lets update the frames with the forward kinematics and reprint the frame locations."
   ]
  },
  {
   "cell_type": "code",
   "execution_count": 7,
   "metadata": {},
   "outputs": [
    {
     "name": "stdout",
     "output_type": "stream",
     "text": [
      "universe                 :  0.00  0.00  0.00\n",
      "shoulder_pan_joint       :  0.00  0.00  0.09\n",
      "shoulder_lift_joint      :  0.00  0.14  0.09\n",
      "elbow_joint              :  0.42  0.02  0.09\n",
      "wrist_1_joint            :  0.82  0.02  0.09\n",
      "wrist_2_joint            :  0.82  0.11  0.09\n",
      "wrist_3_joint            :  0.82  0.11 -0.01\n",
      "  v = 0 0 0\n",
      "  w = 0 0 0\n",
      "\n"
     ]
    }
   ],
   "source": [
    "pin.framesForwardKinematics(robot.model, robot.data, pin.neutral(robot.model))\n",
    "for name, oMi in zip(robot.model.names, robot.data.oMi):\n",
    "    print((\"{:<24} : {: .2f} {: .2f} {: .2f}\"\n",
    "          .format( name, *oMi.translation.T.flat )))\n",
    "print(robot.data.v[6])"
   ]
  },
  {
   "cell_type": "markdown",
   "metadata": {},
   "source": [
    "To get specific frames we can use the following:"
   ]
  },
  {
   "cell_type": "code",
   "execution_count": 8,
   "metadata": {},
   "outputs": [
    {
     "name": "stdout",
     "output_type": "stream",
     "text": [
      "Tool placement:\n",
      "   R =\n",
      "          -1 -9.79328e-12  4.79541e-23\n",
      "           0  4.89664e-12            1\n",
      "-9.79328e-12            1 -4.89664e-12\n",
      "  p =   0.81725   0.19145 -0.005491\n",
      "\n",
      "Base placement:\n",
      "   R =\n",
      "1 0 0\n",
      "0 1 0\n",
      "0 0 1\n",
      "  p = 0 0 0\n",
      "\n"
     ]
    }
   ],
   "source": [
    "IDX_BASE = robot.model.getFrameId('base_link')\n",
    "IDX_TOOL = robot.model.getFrameId('tool0')\n",
    "\n",
    "oMtool = robot.data.oMf[IDX_TOOL]\n",
    "oMbase = robot.data.oMf[IDX_BASE]\n",
    "\n",
    "print(\"Tool placement:\\n\",oMtool)\n",
    "print(\"Base placement:\\n\",oMbase)"
   ]
  },
  {
   "cell_type": "markdown",
   "metadata": {},
   "source": [
    "Now lets visualize a random velocity trajectory. We can integrate the velocities into positions with the pin.integrate function."
   ]
  },
  {
   "cell_type": "code",
   "execution_count": 33,
   "metadata": {},
   "outputs": [],
   "source": [
    "vq = np.random.rand(robot.model.nv)*4 - 2\n",
    "DT = 1e-3\n",
    "n_steps = 1000\n",
    "for t in range(n_steps):\n",
    "    q = pin.integrate(robot.model,q,vq*DT)\n",
    "    if t%10==0:\n",
    "        viz.display(q)\n",
    "    time.sleep(1/n_steps)"
   ]
  },
  {
   "cell_type": "markdown",
   "metadata": {},
   "source": [
    "In the next section we will use inverse velocity kinematics to find the joint configuration that corresponds to an end effector pose. First lets visualize the goal frame. This section of the tutorial will correspond do the numerical inverse kinematics algorithm from section 6.2.2 of *Modern Robotics*."
   ]
  },
  {
   "cell_type": "code",
   "execution_count": 34,
   "metadata": {},
   "outputs": [],
   "source": [
    "oMgoal = pin.SE3(pin.utils.rotate('x',np.pi), np.array([0.2, .4, .7]))\n",
    "viz.visualize_frame(\"oMgoal\", oMgoal)"
   ]
  },
  {
   "cell_type": "markdown",
   "metadata": {},
   "source": [
    "You can find the Jacobian of the tool frame with the following command."
   ]
  },
  {
   "cell_type": "code",
   "execution_count": 35,
   "metadata": {},
   "outputs": [
    {
     "data": {
      "text/plain": [
       "(6, 6)"
      ]
     },
     "execution_count": 35,
     "metadata": {},
     "output_type": "execute_result"
    }
   ],
   "source": [
    "Jtool = pin.computeFrameJacobian(robot.model, robot.data, q, IDX_TOOL)\n",
    "Jtool.shape"
   ]
  },
  {
   "cell_type": "markdown",
   "metadata": {},
   "source": [
    "As we saw in the lecture, using the inverse jacobian we can map twists in a robot frame to joint velocities.\n",
    "$$\\dot{q} = J^{\\dagger}_{tool}(\\theta) \\mathcal{V}_{tool}$$\n",
    "We can rewrite this to only contain the increments dq and dx in the following way and then define dx as the error between the tool and goal frames.\n",
    "$$dq = J^{\\dagger}_{tool}(\\theta) dx$$\n",
    "$$dx = \\log({}^0 T_{tool}^{-1} {}^0 T_{goal})$$"
   ]
  },
  {
   "cell_type": "code",
   "execution_count": 36,
   "metadata": {},
   "outputs": [],
   "source": [
    "q = pin.neutral(robot.model)\n",
    "viz.display(q)\n",
    "n_steps = 10000\n",
    "for i in range(n_steps+1):\n",
    "\n",
    "    # Run the algorithms that outputs values in robot.data\n",
    "    pin.framesForwardKinematics(robot.model,robot.data,q)\n",
    "    pin.computeJointJacobians(robot.model,robot.data,q)\n",
    "\n",
    "    # Placement from world frame o to frame f oMtool  \n",
    "    oMtool = robot.data.oMf[IDX_TOOL]\n",
    "\n",
    "    # 6D error between the two frame\n",
    "    tool_nu = pin.log(oMtool.inverse()*oMgoal).vector\n",
    "\n",
    "    # Get corresponding jacobian\n",
    "    tool_Jtool = pin.computeFrameJacobian(robot.model, robot.data, q, IDX_TOOL, pin.LOCAL)\n",
    "\n",
    "    # Control law by least square\n",
    "    vq = np.linalg.pinv(tool_Jtool)@tool_nu\n",
    "\n",
    "    q = pin.integrate(robot.model,q, vq * DT)\n",
    "    if i%10==0:\n",
    "        viz.display(q)\n",
    "    time.sleep(1/n_steps)\n"
   ]
  },
  {
   "cell_type": "markdown",
   "metadata": {},
   "source": [
    "Now lets visualize the tool frame to see is it corresponds to the goal. If you cant see a difference, then they should be overlapping. You can delete them one after another to confirm this with the last two cells."
   ]
  },
  {
   "cell_type": "code",
   "execution_count": 37,
   "metadata": {},
   "outputs": [],
   "source": [
    "oMtool = robot.data.oMf[IDX_TOOL]\n",
    "viz.visualize_frame(\"oMtool\", oMtool)"
   ]
  },
  {
   "cell_type": "code",
   "execution_count": 38,
   "metadata": {},
   "outputs": [],
   "source": [
    "viz.delete(\"oMgoal\")"
   ]
  },
  {
   "cell_type": "code",
   "execution_count": 39,
   "metadata": {},
   "outputs": [],
   "source": [
    "viz.delete(\"oMtool\")"
   ]
  }
 ],
 "metadata": {
  "kernelspec": {
   "display_name": "robotics_tutorials",
   "language": "python",
   "name": "python3"
  },
  "language_info": {
   "codemirror_mode": {
    "name": "ipython",
    "version": 3
   },
   "file_extension": ".py",
   "mimetype": "text/x-python",
   "name": "python",
   "nbconvert_exporter": "python",
   "pygments_lexer": "ipython3",
   "version": "3.10.14"
  }
 },
 "nbformat": 4,
 "nbformat_minor": 2
}
