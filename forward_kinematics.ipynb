{
 "cells": [
  {
   "cell_type": "code",
   "execution_count": 248,
   "metadata": {},
   "outputs": [],
   "source": [
    "import time\n",
    "import numpy as np\n",
    "import pinocchio as pin\n",
    "from example_robot_data import load\n",
    "from utils.meshcat_viewer_wrapper import MeshcatVisualizer\n"
   ]
  },
  {
   "cell_type": "code",
   "execution_count": 249,
   "metadata": {},
   "outputs": [
    {
     "name": "stdout",
     "output_type": "stream",
     "text": [
      "You can open the visualizer by visiting the following URL:\n",
      "http://127.0.0.1:7013/static/\n"
     ]
    }
   ],
   "source": [
    "robot = load('ur5')\n",
    "viz = MeshcatVisualizer(robot)"
   ]
  },
  {
   "cell_type": "code",
   "execution_count": 138,
   "metadata": {},
   "outputs": [
    {
     "name": "stdout",
     "output_type": "stream",
     "text": [
      "<pinocchio.pinocchio_pywrap.StdVec_SE3 object at 0x70725556d7e0>\n"
     ]
    }
   ],
   "source": [
    "print(robot.data.oMi)"
   ]
  },
  {
   "cell_type": "code",
   "execution_count": 240,
   "metadata": {},
   "outputs": [
    {
     "name": "stdout",
     "output_type": "stream",
     "text": [
      "Frame 0: universe\n",
      "Frame 1: root_joint\n",
      "Frame 2: world\n",
      "Frame 3: world_joint\n",
      "Frame 4: base_link\n",
      "Frame 5: base_link-base_fixed_joint\n",
      "Frame 6: base\n",
      "Frame 7: shoulder_pan_joint\n",
      "Frame 8: shoulder_link\n",
      "Frame 9: shoulder_lift_joint\n",
      "Frame 10: upper_arm_link\n",
      "Frame 11: elbow_joint\n",
      "Frame 12: forearm_link\n",
      "Frame 13: wrist_1_joint\n",
      "Frame 14: wrist_1_link\n",
      "Frame 15: wrist_2_joint\n",
      "Frame 16: wrist_2_link\n",
      "Frame 17: wrist_3_joint\n",
      "Frame 18: wrist_3_link\n",
      "Frame 19: ee_fixed_joint\n",
      "Frame 20: ee_link\n",
      "Frame 21: wrist_3_link-tool0_fixed_joint\n",
      "Frame 22: tool0\n"
     ]
    }
   ],
   "source": [
    "for i in range(robot.model.nframes):\n",
    "    frame = robot.model.frames[i]\n",
    "    print(f\"Frame {i}: {frame.name}\")"
   ]
  },
  {
   "cell_type": "code",
   "execution_count": 241,
   "metadata": {},
   "outputs": [
    {
     "name": "stdout",
     "output_type": "stream",
     "text": [
      "Joint 0: universe\n",
      "Joint 1: shoulder_pan_joint\n",
      "Joint 2: shoulder_lift_joint\n",
      "Joint 3: elbow_joint\n",
      "Joint 4: wrist_1_joint\n",
      "Joint 5: wrist_2_joint\n",
      "Joint 6: wrist_3_joint\n"
     ]
    }
   ],
   "source": [
    "for i in range(robot.model.njoints):\n",
    "    joint = robot.model.joints[i]\n",
    "    joint_name = robot.model.names[i]\n",
    "    print(f\"Joint {i}: {joint_name}\")"
   ]
  },
  {
   "cell_type": "code",
   "execution_count": 242,
   "metadata": {},
   "outputs": [],
   "source": [
    "viz.display(pin.neutral(robot.model))"
   ]
  },
  {
   "cell_type": "code",
   "execution_count": 179,
   "metadata": {},
   "outputs": [],
   "source": [
    "viz.display(pin.randomConfiguration(robot.model))"
   ]
  },
  {
   "cell_type": "code",
   "execution_count": 181,
   "metadata": {},
   "outputs": [],
   "source": [
    "IDX_BASE = robot.model.getFrameId('base_link')\n",
    "IDX_TOOL = robot.model.getFrameId('tool0')"
   ]
  },
  {
   "cell_type": "code",
   "execution_count": 182,
   "metadata": {},
   "outputs": [
    {
     "name": "stdout",
     "output_type": "stream",
     "text": [
      "universe                 :  0.00  0.00  0.00\n",
      "shoulder_pan_joint       :  0.00  0.00  0.09\n",
      "shoulder_lift_joint      : -0.13 -0.04  0.09\n",
      "elbow_joint              :  0.11 -0.40  0.16\n",
      "wrist_1_joint            :  0.19 -0.64 -0.15\n",
      "wrist_2_joint            :  0.10 -0.67 -0.15\n",
      "wrist_3_joint            :  0.09 -0.63 -0.23\n"
     ]
    }
   ],
   "source": [
    "for name, oMi in zip(robot.model.names, robot.data.oMi):\n",
    "    print((\"{:<24} : {: .2f} {: .2f} {: .2f}\"\n",
    "          .format( name, *oMi.translation.T.flat )))"
   ]
  },
  {
   "cell_type": "code",
   "execution_count": 183,
   "metadata": {},
   "outputs": [
    {
     "data": {
      "text/plain": [
       "Frame name: tool0 paired to (parent joint/ previous frame)(6/21)\n",
       "with relative placement wrt parent joint:\n",
       "  R =\n",
       "          1           0           0\n",
       "          0 4.89664e-12           1\n",
       "          0          -1 4.89664e-12\n",
       "  p =      0 0.0823      0\n",
       "containing inertia:\n",
       "  m = 0\n",
       "  c = 0 0 0\n",
       "  I = \n",
       "0 0 0\n",
       "0 0 0\n",
       "0 0 0"
      ]
     },
     "execution_count": 183,
     "metadata": {},
     "output_type": "execute_result"
    }
   ],
   "source": [
    "robot.model.frames[IDX_TOOL]"
   ]
  },
  {
   "cell_type": "code",
   "execution_count": 243,
   "metadata": {},
   "outputs": [
    {
     "name": "stdout",
     "output_type": "stream",
     "text": [
      "Tool placement:   R =\n",
      " 0.155811  0.107831  0.981884\n",
      "  -0.9553 -0.236384  0.177553\n",
      " 0.251247 -0.965658   0.06618\n",
      "  p = 0.185502 0.400361 0.707798\n",
      "\n",
      "Basis placement:   R =\n",
      "1 0 0\n",
      "0 1 0\n",
      "0 0 1\n",
      "  p = 0 0 0\n",
      "\n"
     ]
    }
   ],
   "source": [
    "pin.framesForwardKinematics(robot.model, robot.data, q)\n",
    "\n",
    "oMtool = robot.data.oMf[IDX_TOOL]\n",
    "oMbase = robot.data.oMf[IDX_BASE]\n",
    "\n",
    "print(\"Tool placement:\",oMtool)\n",
    "print(\"Basis placement:\",oMbase)"
   ]
  },
  {
   "cell_type": "code",
   "execution_count": null,
   "metadata": {},
   "outputs": [],
   "source": [
    "# given that forward kinematics is solved give as an exercise to find\n",
    "# all relative transformations between the joints\n",
    "# then as a test you can see whether or not your relative transformations\n",
    "# end up with the same forward kinematics as the pin algorithm\n",
    "\n",
    "IDX_BASE = robot.model.getFrameId('base_link')\n",
    "IDX_SHOULDER_PAN = robot.model.getFrameId('shoulder_pan_joint')\n",
    "IDX_SHOULDER_LIFT = robot.model.getFrameId('shoulder_lift_joint')\n",
    "IDX_ELBOW = robot.model.getFrameId('base_link')\n",
    "IDX_WRIST1 = robot.model.getFrameId('base_link')\n",
    "IDX_WRIST2 = robot.model.getFrameId('base_link')\n",
    "IDX_WRIST3 = robot.model.getFrameId('base_link')\n",
    "IDX_TOOL = robot.model.getFrameId('tool0')"
   ]
  },
  {
   "cell_type": "code",
   "execution_count": 250,
   "metadata": {},
   "outputs": [],
   "source": [
    "viz.display(pin.randomConfiguration(robot.model))"
   ]
  },
  {
   "cell_type": "code",
   "execution_count": 197,
   "metadata": {},
   "outputs": [],
   "source": [
    "vq = np.random.rand(robot.model.nv)*4 - 2\n",
    "DT = 1e-3\n",
    "for t in range(1000):\n",
    "    q = pin.integrate(robot.model,q,vq*DT)\n",
    "    viz.display(q)\n",
    "    time.sleep(DT/10)"
   ]
  },
  {
   "cell_type": "code",
   "execution_count": 252,
   "metadata": {},
   "outputs": [],
   "source": [
    "oMgoal = pin.SE3(pin.Quaternion(-0.5, 0.58, -0.39, 0.52).normalized().matrix(), np.array([0.2, .4, .7]))\n",
    "viz.addBox('goal', [.1,.1,.1], [ .1,.1,.5, .6])\n",
    "viz.applyConfiguration('goal',oMgoal)"
   ]
  },
  {
   "cell_type": "code",
   "execution_count": 254,
   "metadata": {},
   "outputs": [],
   "source": [
    "q = pin.neutral(robot.model)\n",
    "viz.display(q)\n",
    "\n",
    "for i in range(4000):  # Integrate over 2 second of robot life\n",
    "\n",
    "    # Run the algorithms that outputs values in robot.data\n",
    "    pin.framesForwardKinematics(robot.model,robot.data,q)\n",
    "    pin.computeJointJacobians(robot.model,robot.data,q)\n",
    "\n",
    "    # Placement from world frame o to frame f oMtool  \n",
    "    oMtool = robot.data.oMf[IDX_TOOL]\n",
    "\n",
    "    # 6D error between the two frame\n",
    "    tool_nu = pin.log(oMtool.inverse()*oMgoal).vector\n",
    "\n",
    "    # Get corresponding jacobian\n",
    "    tool_Jtool = pin.computeFrameJacobian(robot.model, robot.data, q, IDX_TOOL, pin.LOCAL)\n",
    "\n",
    "    # Control law by least square\n",
    "    vq = np.linalg.pinv(tool_Jtool)@tool_nu\n",
    "\n",
    "    q = pin.integrate(robot.model,q, vq * DT)\n",
    "    viz.display(q)\n"
   ]
  }
 ],
 "metadata": {
  "kernelspec": {
   "display_name": "robotics_tutorials",
   "language": "python",
   "name": "python3"
  },
  "language_info": {
   "codemirror_mode": {
    "name": "ipython",
    "version": 3
   },
   "file_extension": ".py",
   "mimetype": "text/x-python",
   "name": "python",
   "nbconvert_exporter": "python",
   "pygments_lexer": "ipython3",
   "version": "3.10.14"
  }
 },
 "nbformat": 4,
 "nbformat_minor": 2
}
